{
 "cells": [
  {
   "cell_type": "code",
   "execution_count": 2,
   "id": "577b013e",
   "metadata": {},
   "outputs": [],
   "source": [
    "import numpy as np\n",
    "import sys\n",
    "import os\n",
    "from tqdm import trange\n",
    "sys.path.append('../python') #Path to load WI_Solver_Utils.py\n",
    "import WI_Solver_utils\n",
    "from WI_Solver_utils import InflatonModel, Background, Perturbations"
   ]
  },
  {
   "cell_type": "code",
   "execution_count": 13,
   "id": "8f697c68",
   "metadata": {},
   "outputs": [
    {
     "name": "stderr",
     "output_type": "stream",
     "text": [
      "100%|██████████████████████████████████████████████████████████████████████████████████████████████████████████████████████████████████████████████████████████████████████████████| 52/52 [03:54<00:00,  4.51s/it]\n"
     ]
    }
   ],
   "source": [
    "\n",
    "##############################\n",
    "## Define Global Parameters: #\n",
    "##############################\n",
    "\n",
    "Mpl = 1 # Everything is in Plank units M_{pl}\n",
    "g = 228.27  # SUSY relativistic degrees of freedom\n",
    "a1 = np.pi**2/30*g\n",
    "\n",
    "Ne_inflation=60 #Number of e-folds of after CMB horizon crossing\n",
    "Ne_pert= 10 # Number of e-folds before CMB horizon crossing\n",
    "\n",
    "#\\tau Array:#\n",
    "\n",
    "tau_ini = 6\n",
    "tau_end = -1\n",
    "N = 100000\n",
    "# dtau is a negative quantity as expected since tau is decreasing over time\n",
    "dtau = (tau_end - tau_ini) / N\n",
    "taus = np.linspace(tau_ini, tau_end, N)\n",
    "\n",
    "\n",
    "#Q Array:#\n",
    "\n",
    "Qs=[9.30000000e+03, 8.00000000e+03, 7.94328235e+03, 6.47308204e+03,5.27499706e+03, 5.00000000e+03, 4.29866235e+03, 3.98107000e+03, 3.50303474e+03, 2.85466766e+03, 2.32630507e+03, 1.89573565e+03, 1.58489000e+03, 1.54485915e+03, 1.25892541e+03, 1.00000000e+03, 6.60693448e+02, 6.30957000e+02, 4.36515832e+02, 2.88403150e+02, 2.51189000e+02, 1.90546072e+02, 1.25892541e+02, 1.00000000e+02, 8.60000000e+01, 7.60000000e+01, 6.60000000e+01, 5.60000000e+01, 4.60000000e+01, 3.60000000e+01, 2.60000000e+01, 1.60000000e+01,6.00000000e+00, 3.16227766e+00, 1.00000000e+00, 4.86967525e-01, 2.37137000e-01, 7.49894209e-02, 5.62341000e-02, 1.33352000e-02, 1.15478198e-02, 3.16228000e-03, 1.77827941e-03, 7.49894000e-04, 2.73841963e-04, 1.77828000e-04, 4.21697000e-05, 4.21696503e-05, 1.00000000e-05, 6.49381632e-06, 1.00000000e-06, 1.00000000e-07]\n",
    "\n",
    "\n",
    "############################################################################################################\n",
    "###                             EXAMPLE 1: MONOMIAL QUARTIC POTENTIAL                                    ###\n",
    "############################################################################################################\n",
    "\n",
    "\n",
    "lv = 10**(-14)  # value of lambda\n",
    "\n",
    "Model = InflatonModel('monomial', [lv*np.math.factorial(4), 4], g, a1, Mpl)\n",
    "\n",
    "ph0_ini=10\n",
    "lr=.01 #Initializing the value of the learning rate\n",
    "ICs=[]\n",
    "for i in trange(len(Qs)):\n",
    "    #Call the background, initializing ph0 at any point which we call ph0_ini\n",
    "    Bg = Background(Model,ph0_ini , Qs[i])\n",
    "    # Us the slow-roll guesser in the Background module to guess a reasonable value for ph0:\n",
    "    ph0_guess=Bg.Phi0_slow_roll_guesser(Ne_inflation+Ne_pert)\n",
    "    '''Reinitiate the background module with ph0_guess and then start the iterative background solver: Note always better to start from a very small value for the learning_rate\n",
    "    and then increase it if the corvengence is too slow'''\n",
    "    Bg = Background(Model,ph0_guess , Qs[i],Qconstant=True)\n",
    "    ph0_val = Bg.Bg_solver_test(Ne_inflation+Ne_pert, int(2*N), Ne_inflation, verbose=False, learning_rate=lr)\n",
    "    ICs.append([Qs[i],ph0_val])\n",
    "    ph0_ini=ph0_guess\n",
    "    del ph0_val, ph0_guess\n",
    "\n",
    "#Save the new initial conditions in a txt file:\n",
    "np.savetxt('../ICS_ph0-Q0s/ICS_ph0-Q0s_quartic_Ne'+str(int(Ne_inflation))+'.txt', ICs)\n"
   ]
  },
  {
   "cell_type": "code",
   "execution_count": null,
   "id": "f52c4e98",
   "metadata": {},
   "outputs": [],
   "source": []
  }
 ],
 "metadata": {
  "kernelspec": {
   "display_name": "Python 3 (ipykernel)",
   "language": "python",
   "name": "python3"
  },
  "language_info": {
   "codemirror_mode": {
    "name": "ipython",
    "version": 3
   },
   "file_extension": ".py",
   "mimetype": "text/x-python",
   "name": "python",
   "nbconvert_exporter": "python",
   "pygments_lexer": "ipython3",
   "version": "3.10.12"
  }
 },
 "nbformat": 4,
 "nbformat_minor": 5
}
